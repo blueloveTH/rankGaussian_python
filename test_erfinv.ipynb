{
 "metadata": {
  "language_info": {
   "codemirror_mode": {
    "name": "ipython",
    "version": 3
   },
   "file_extension": ".py",
   "mimetype": "text/x-python",
   "name": "python",
   "nbconvert_exporter": "python",
   "pygments_lexer": "ipython3",
   "version": "3.7.8-final"
  },
  "orig_nbformat": 2,
  "kernelspec": {
   "name": "python37864bittfmainvenvd98ddf667aad420d8b18f6282cda8b05",
   "display_name": "Python 3.7.8 64-bit ('tf_main': venv)"
  }
 },
 "nbformat": 4,
 "nbformat_minor": 2,
 "cells": [
  {
   "cell_type": "code",
   "execution_count": 56,
   "metadata": {},
   "outputs": [],
   "source": [
    "import numpy as np\n",
    "from math import sqrt, log\n",
    "from scipy.special import erfinv"
   ]
  },
  {
   "cell_type": "code",
   "execution_count": 57,
   "metadata": {},
   "outputs": [],
   "source": [
    "def RationalApproximation(t):\n",
    "    c = [2.515517, 0.802853, 0.010328]\n",
    "    d = [1.432788, 0.189269, 0.001308]\n",
    "    return t - ((c[2]*t + c[1])*t + c[0]) / (((d[2]*t + d[1])*t + d[0])*t + 1.0)\n",
    "\n",
    "def NormalCDFInverse(p):\n",
    "    if p <= 0.0 or p >= 1.0:\n",
    "        assert(false)\n",
    "    if p < 0.5:\n",
    "        return -RationalApproximation( sqrt(-2.0*log(p)) )\n",
    "    return RationalApproximation( sqrt(-2.0*log(1-p)) )"
   ]
  },
  {
   "cell_type": "code",
   "execution_count": 58,
   "metadata": {},
   "outputs": [],
   "source": [
    "def cdfinv(y):\n",
    "    return sqrt(2) * erfinv(2 * y - 1)"
   ]
  },
  {
   "cell_type": "code",
   "execution_count": 59,
   "metadata": {},
   "outputs": [
    {
     "output_type": "execute_result",
     "data": {
      "text/plain": "(-1.0100667546808495e-07, 0.0)"
     },
     "metadata": {},
     "execution_count": 59
    }
   ],
   "source": [
    "val = 0.5\n",
    "NormalCDFInverse(val), cdfinv(val)"
   ]
  },
  {
   "cell_type": "code",
   "execution_count": null,
   "metadata": {},
   "outputs": [],
   "source": []
  }
 ]
}